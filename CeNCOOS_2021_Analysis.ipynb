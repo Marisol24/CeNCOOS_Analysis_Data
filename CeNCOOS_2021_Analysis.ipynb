{
 "cells": [
  {
   "cell_type": "code",
   "execution_count": 34,
   "metadata": {},
   "outputs": [],
   "source": [
    "import numpy as np\n",
    "import matplotlib.pyplot as plt\n",
    "import xarray as xr\n",
    "from matplotlib import mlab\n",
    "import scipy.signal as signal\n",
    "from scipy import stats\n",
    "import pandas as pd\n",
    "from scipy import linalg\n",
    "import os"
   ]
  },
  {
   "cell_type": "markdown",
   "metadata": {},
   "source": [
    "*MLML Shore Station Data>Moss_Landing>netcdf*\n",
    "https://drive.google.com/drive/u/3/folders/1kHGUe0LtATtH5veMkt-f35pgTuz2AGWZ"
   ]
  },
  {
   "cell_type": "code",
   "execution_count": 98,
   "metadata": {},
   "outputs": [],
   "source": [
    "local_dataset_2021='moss_landing_2021.nc'"
   ]
  },
  {
   "cell_type": "code",
   "execution_count": 99,
   "metadata": {},
   "outputs": [],
   "source": [
    "ds2021=xr.open_dataset(local_dataset_2021)"
   ]
  },
  {
   "cell_type": "code",
   "execution_count": 100,
   "metadata": {},
   "outputs": [],
   "source": [
    "df=ds2021.to_dataframe()"
   ]
  },
  {
   "cell_type": "code",
   "execution_count": 101,
   "metadata": {},
   "outputs": [
    {
     "data": {
      "text/html": [
       "<div>\n",
       "<style scoped>\n",
       "    .dataframe tbody tr th:only-of-type {\n",
       "        vertical-align: middle;\n",
       "    }\n",
       "\n",
       "    .dataframe tbody tr th {\n",
       "        vertical-align: top;\n",
       "    }\n",
       "\n",
       "    .dataframe thead th {\n",
       "        text-align: right;\n",
       "    }\n",
       "</style>\n",
       "<table border=\"1\" class=\"dataframe\">\n",
       "  <thead>\n",
       "    <tr style=\"text-align: right;\">\n",
       "      <th></th>\n",
       "      <th>temp</th>\n",
       "      <th>temp_flg</th>\n",
       "      <th>cond</th>\n",
       "      <th>cond_flg</th>\n",
       "      <th>sal</th>\n",
       "      <th>sal_flg</th>\n",
       "      <th>fluor</th>\n",
       "      <th>fluor_flg</th>\n",
       "      <th>otemp</th>\n",
       "      <th>otemp_flg</th>\n",
       "      <th>...</th>\n",
       "      <th>osat_flg</th>\n",
       "      <th>ph</th>\n",
       "      <th>ph_flg</th>\n",
       "      <th>co2</th>\n",
       "      <th>co2_flg</th>\n",
       "      <th>nitrate</th>\n",
       "      <th>nitrogen</th>\n",
       "      <th>nitrate_flg</th>\n",
       "      <th>lon</th>\n",
       "      <th>lat</th>\n",
       "    </tr>\n",
       "    <tr>\n",
       "      <th>time</th>\n",
       "      <th></th>\n",
       "      <th></th>\n",
       "      <th></th>\n",
       "      <th></th>\n",
       "      <th></th>\n",
       "      <th></th>\n",
       "      <th></th>\n",
       "      <th></th>\n",
       "      <th></th>\n",
       "      <th></th>\n",
       "      <th></th>\n",
       "      <th></th>\n",
       "      <th></th>\n",
       "      <th></th>\n",
       "      <th></th>\n",
       "      <th></th>\n",
       "      <th></th>\n",
       "      <th></th>\n",
       "      <th></th>\n",
       "      <th></th>\n",
       "      <th></th>\n",
       "    </tr>\n",
       "  </thead>\n",
       "  <tbody>\n",
       "    <tr>\n",
       "      <th>2021-01-01 00:00:34</th>\n",
       "      <td>12.623983</td>\n",
       "      <td>1.0</td>\n",
       "      <td>0.896977</td>\n",
       "      <td>1.0</td>\n",
       "      <td>33.120840</td>\n",
       "      <td>1.0</td>\n",
       "      <td>7.344685</td>\n",
       "      <td>1.0</td>\n",
       "      <td>12.69</td>\n",
       "      <td>1.0</td>\n",
       "      <td>...</td>\n",
       "      <td>1.0</td>\n",
       "      <td>7.7670</td>\n",
       "      <td>1.0</td>\n",
       "      <td>NaN</td>\n",
       "      <td>4.0</td>\n",
       "      <td>11.02</td>\n",
       "      <td>0.1544</td>\n",
       "      <td>1.0</td>\n",
       "      <td>-121.7915</td>\n",
       "      <td>36.8025</td>\n",
       "    </tr>\n",
       "    <tr>\n",
       "      <th>2021-01-01 00:05:35</th>\n",
       "      <td>12.627052</td>\n",
       "      <td>1.0</td>\n",
       "      <td>0.896977</td>\n",
       "      <td>1.0</td>\n",
       "      <td>33.118129</td>\n",
       "      <td>1.0</td>\n",
       "      <td>7.363977</td>\n",
       "      <td>1.0</td>\n",
       "      <td>12.68</td>\n",
       "      <td>1.0</td>\n",
       "      <td>...</td>\n",
       "      <td>1.0</td>\n",
       "      <td>7.7670</td>\n",
       "      <td>1.0</td>\n",
       "      <td>NaN</td>\n",
       "      <td>4.0</td>\n",
       "      <td>10.75</td>\n",
       "      <td>0.1506</td>\n",
       "      <td>1.0</td>\n",
       "      <td>-121.7915</td>\n",
       "      <td>36.8025</td>\n",
       "    </tr>\n",
       "    <tr>\n",
       "      <th>2021-01-01 00:10:34</th>\n",
       "      <td>12.620147</td>\n",
       "      <td>1.0</td>\n",
       "      <td>0.896806</td>\n",
       "      <td>1.0</td>\n",
       "      <td>33.117203</td>\n",
       "      <td>1.0</td>\n",
       "      <td>7.363977</td>\n",
       "      <td>1.0</td>\n",
       "      <td>12.68</td>\n",
       "      <td>1.0</td>\n",
       "      <td>...</td>\n",
       "      <td>1.0</td>\n",
       "      <td>7.7760</td>\n",
       "      <td>1.0</td>\n",
       "      <td>NaN</td>\n",
       "      <td>4.0</td>\n",
       "      <td>9.97</td>\n",
       "      <td>0.1396</td>\n",
       "      <td>1.0</td>\n",
       "      <td>-121.7915</td>\n",
       "      <td>36.8025</td>\n",
       "    </tr>\n",
       "    <tr>\n",
       "      <th>2021-01-01 00:15:35</th>\n",
       "      <td>12.645462</td>\n",
       "      <td>1.0</td>\n",
       "      <td>0.897221</td>\n",
       "      <td>1.0</td>\n",
       "      <td>33.111905</td>\n",
       "      <td>1.0</td>\n",
       "      <td>7.383269</td>\n",
       "      <td>1.0</td>\n",
       "      <td>12.70</td>\n",
       "      <td>1.0</td>\n",
       "      <td>...</td>\n",
       "      <td>1.0</td>\n",
       "      <td>7.7760</td>\n",
       "      <td>1.0</td>\n",
       "      <td>NaN</td>\n",
       "      <td>4.0</td>\n",
       "      <td>9.10</td>\n",
       "      <td>0.1275</td>\n",
       "      <td>1.0</td>\n",
       "      <td>-121.7915</td>\n",
       "      <td>36.8025</td>\n",
       "    </tr>\n",
       "    <tr>\n",
       "      <th>2021-01-01 00:20:34</th>\n",
       "      <td>12.654665</td>\n",
       "      <td>1.0</td>\n",
       "      <td>0.897294</td>\n",
       "      <td>1.0</td>\n",
       "      <td>33.106791</td>\n",
       "      <td>1.0</td>\n",
       "      <td>7.392915</td>\n",
       "      <td>1.0</td>\n",
       "      <td>12.70</td>\n",
       "      <td>1.0</td>\n",
       "      <td>...</td>\n",
       "      <td>1.0</td>\n",
       "      <td>7.7715</td>\n",
       "      <td>1.0</td>\n",
       "      <td>NaN</td>\n",
       "      <td>4.0</td>\n",
       "      <td>9.68</td>\n",
       "      <td>0.1355</td>\n",
       "      <td>1.0</td>\n",
       "      <td>-121.7915</td>\n",
       "      <td>36.8025</td>\n",
       "    </tr>\n",
       "    <tr>\n",
       "      <th>...</th>\n",
       "      <td>...</td>\n",
       "      <td>...</td>\n",
       "      <td>...</td>\n",
       "      <td>...</td>\n",
       "      <td>...</td>\n",
       "      <td>...</td>\n",
       "      <td>...</td>\n",
       "      <td>...</td>\n",
       "      <td>...</td>\n",
       "      <td>...</td>\n",
       "      <td>...</td>\n",
       "      <td>...</td>\n",
       "      <td>...</td>\n",
       "      <td>...</td>\n",
       "      <td>...</td>\n",
       "      <td>...</td>\n",
       "      <td>...</td>\n",
       "      <td>...</td>\n",
       "      <td>...</td>\n",
       "      <td>...</td>\n",
       "      <td>...</td>\n",
       "    </tr>\n",
       "    <tr>\n",
       "      <th>2021-04-03 12:00:43</th>\n",
       "      <td>11.042915</td>\n",
       "      <td>1.0</td>\n",
       "      <td>0.868913</td>\n",
       "      <td>1.0</td>\n",
       "      <td>33.364048</td>\n",
       "      <td>1.0</td>\n",
       "      <td>9.968372</td>\n",
       "      <td>1.0</td>\n",
       "      <td>NaN</td>\n",
       "      <td>4.0</td>\n",
       "      <td>...</td>\n",
       "      <td>4.0</td>\n",
       "      <td>7.8120</td>\n",
       "      <td>1.0</td>\n",
       "      <td>NaN</td>\n",
       "      <td>4.0</td>\n",
       "      <td>-1.00</td>\n",
       "      <td>-1.0000</td>\n",
       "      <td>4.0</td>\n",
       "      <td>-121.7915</td>\n",
       "      <td>36.8025</td>\n",
       "    </tr>\n",
       "    <tr>\n",
       "      <th>2021-04-03 12:05:44</th>\n",
       "      <td>11.032715</td>\n",
       "      <td>1.0</td>\n",
       "      <td>0.868718</td>\n",
       "      <td>1.0</td>\n",
       "      <td>33.365014</td>\n",
       "      <td>1.0</td>\n",
       "      <td>10.479606</td>\n",
       "      <td>3.0</td>\n",
       "      <td>NaN</td>\n",
       "      <td>4.0</td>\n",
       "      <td>...</td>\n",
       "      <td>4.0</td>\n",
       "      <td>7.8075</td>\n",
       "      <td>1.0</td>\n",
       "      <td>NaN</td>\n",
       "      <td>4.0</td>\n",
       "      <td>-1.00</td>\n",
       "      <td>-1.0000</td>\n",
       "      <td>4.0</td>\n",
       "      <td>-121.7915</td>\n",
       "      <td>36.8025</td>\n",
       "    </tr>\n",
       "    <tr>\n",
       "      <th>2021-04-03 12:10:43</th>\n",
       "      <td>11.028007</td>\n",
       "      <td>1.0</td>\n",
       "      <td>0.868669</td>\n",
       "      <td>1.0</td>\n",
       "      <td>33.367225</td>\n",
       "      <td>1.0</td>\n",
       "      <td>11.347737</td>\n",
       "      <td>3.0</td>\n",
       "      <td>NaN</td>\n",
       "      <td>4.0</td>\n",
       "      <td>...</td>\n",
       "      <td>4.0</td>\n",
       "      <td>7.7985</td>\n",
       "      <td>1.0</td>\n",
       "      <td>NaN</td>\n",
       "      <td>4.0</td>\n",
       "      <td>-1.00</td>\n",
       "      <td>-1.0000</td>\n",
       "      <td>4.0</td>\n",
       "      <td>-121.7915</td>\n",
       "      <td>36.8025</td>\n",
       "    </tr>\n",
       "    <tr>\n",
       "      <th>2021-04-03 12:15:44</th>\n",
       "      <td>11.027222</td>\n",
       "      <td>1.0</td>\n",
       "      <td>0.868620</td>\n",
       "      <td>1.0</td>\n",
       "      <td>33.365855</td>\n",
       "      <td>1.0</td>\n",
       "      <td>12.804270</td>\n",
       "      <td>3.0</td>\n",
       "      <td>NaN</td>\n",
       "      <td>4.0</td>\n",
       "      <td>...</td>\n",
       "      <td>4.0</td>\n",
       "      <td>7.7985</td>\n",
       "      <td>1.0</td>\n",
       "      <td>NaN</td>\n",
       "      <td>4.0</td>\n",
       "      <td>-1.00</td>\n",
       "      <td>-1.0000</td>\n",
       "      <td>4.0</td>\n",
       "      <td>-121.7915</td>\n",
       "      <td>36.8025</td>\n",
       "    </tr>\n",
       "    <tr>\n",
       "      <th>2021-04-03 12:20:43</th>\n",
       "      <td>11.027222</td>\n",
       "      <td>1.0</td>\n",
       "      <td>0.868620</td>\n",
       "      <td>1.0</td>\n",
       "      <td>33.365855</td>\n",
       "      <td>1.0</td>\n",
       "      <td>11.955430</td>\n",
       "      <td>3.0</td>\n",
       "      <td>NaN</td>\n",
       "      <td>4.0</td>\n",
       "      <td>...</td>\n",
       "      <td>4.0</td>\n",
       "      <td>7.7985</td>\n",
       "      <td>1.0</td>\n",
       "      <td>NaN</td>\n",
       "      <td>4.0</td>\n",
       "      <td>-1.00</td>\n",
       "      <td>-1.0000</td>\n",
       "      <td>4.0</td>\n",
       "      <td>-121.7915</td>\n",
       "      <td>36.8025</td>\n",
       "    </tr>\n",
       "  </tbody>\n",
       "</table>\n",
       "<p>23847 rows × 27 columns</p>\n",
       "</div>"
      ],
      "text/plain": [
       "                          temp  temp_flg      cond  cond_flg        sal  \\\n",
       "time                                                                      \n",
       "2021-01-01 00:00:34  12.623983       1.0  0.896977       1.0  33.120840   \n",
       "2021-01-01 00:05:35  12.627052       1.0  0.896977       1.0  33.118129   \n",
       "2021-01-01 00:10:34  12.620147       1.0  0.896806       1.0  33.117203   \n",
       "2021-01-01 00:15:35  12.645462       1.0  0.897221       1.0  33.111905   \n",
       "2021-01-01 00:20:34  12.654665       1.0  0.897294       1.0  33.106791   \n",
       "...                        ...       ...       ...       ...        ...   \n",
       "2021-04-03 12:00:43  11.042915       1.0  0.868913       1.0  33.364048   \n",
       "2021-04-03 12:05:44  11.032715       1.0  0.868718       1.0  33.365014   \n",
       "2021-04-03 12:10:43  11.028007       1.0  0.868669       1.0  33.367225   \n",
       "2021-04-03 12:15:44  11.027222       1.0  0.868620       1.0  33.365855   \n",
       "2021-04-03 12:20:43  11.027222       1.0  0.868620       1.0  33.365855   \n",
       "\n",
       "                     sal_flg      fluor  fluor_flg  otemp  otemp_flg  ...  \\\n",
       "time                                                                  ...   \n",
       "2021-01-01 00:00:34      1.0   7.344685        1.0  12.69        1.0  ...   \n",
       "2021-01-01 00:05:35      1.0   7.363977        1.0  12.68        1.0  ...   \n",
       "2021-01-01 00:10:34      1.0   7.363977        1.0  12.68        1.0  ...   \n",
       "2021-01-01 00:15:35      1.0   7.383269        1.0  12.70        1.0  ...   \n",
       "2021-01-01 00:20:34      1.0   7.392915        1.0  12.70        1.0  ...   \n",
       "...                      ...        ...        ...    ...        ...  ...   \n",
       "2021-04-03 12:00:43      1.0   9.968372        1.0    NaN        4.0  ...   \n",
       "2021-04-03 12:05:44      1.0  10.479606        3.0    NaN        4.0  ...   \n",
       "2021-04-03 12:10:43      1.0  11.347737        3.0    NaN        4.0  ...   \n",
       "2021-04-03 12:15:44      1.0  12.804270        3.0    NaN        4.0  ...   \n",
       "2021-04-03 12:20:43      1.0  11.955430        3.0    NaN        4.0  ...   \n",
       "\n",
       "                     osat_flg      ph  ph_flg  co2  co2_flg  nitrate  \\\n",
       "time                                                                   \n",
       "2021-01-01 00:00:34       1.0  7.7670     1.0  NaN      4.0    11.02   \n",
       "2021-01-01 00:05:35       1.0  7.7670     1.0  NaN      4.0    10.75   \n",
       "2021-01-01 00:10:34       1.0  7.7760     1.0  NaN      4.0     9.97   \n",
       "2021-01-01 00:15:35       1.0  7.7760     1.0  NaN      4.0     9.10   \n",
       "2021-01-01 00:20:34       1.0  7.7715     1.0  NaN      4.0     9.68   \n",
       "...                       ...     ...     ...  ...      ...      ...   \n",
       "2021-04-03 12:00:43       4.0  7.8120     1.0  NaN      4.0    -1.00   \n",
       "2021-04-03 12:05:44       4.0  7.8075     1.0  NaN      4.0    -1.00   \n",
       "2021-04-03 12:10:43       4.0  7.7985     1.0  NaN      4.0    -1.00   \n",
       "2021-04-03 12:15:44       4.0  7.7985     1.0  NaN      4.0    -1.00   \n",
       "2021-04-03 12:20:43       4.0  7.7985     1.0  NaN      4.0    -1.00   \n",
       "\n",
       "                     nitrogen  nitrate_flg       lon      lat  \n",
       "time                                                           \n",
       "2021-01-01 00:00:34    0.1544          1.0 -121.7915  36.8025  \n",
       "2021-01-01 00:05:35    0.1506          1.0 -121.7915  36.8025  \n",
       "2021-01-01 00:10:34    0.1396          1.0 -121.7915  36.8025  \n",
       "2021-01-01 00:15:35    0.1275          1.0 -121.7915  36.8025  \n",
       "2021-01-01 00:20:34    0.1355          1.0 -121.7915  36.8025  \n",
       "...                       ...          ...       ...      ...  \n",
       "2021-04-03 12:00:43   -1.0000          4.0 -121.7915  36.8025  \n",
       "2021-04-03 12:05:44   -1.0000          4.0 -121.7915  36.8025  \n",
       "2021-04-03 12:10:43   -1.0000          4.0 -121.7915  36.8025  \n",
       "2021-04-03 12:15:44   -1.0000          4.0 -121.7915  36.8025  \n",
       "2021-04-03 12:20:43   -1.0000          4.0 -121.7915  36.8025  \n",
       "\n",
       "[23847 rows x 27 columns]"
      ]
     },
     "execution_count": 101,
     "metadata": {},
     "output_type": "execute_result"
    }
   ],
   "source": [
    "df"
   ]
  },
  {
   "cell_type": "code",
   "execution_count": 90,
   "metadata": {},
   "outputs": [
    {
     "data": {
      "text/plain": [
       "Text(0.5, 0, 'Year-Month')"
      ]
     },
     "execution_count": 90,
     "metadata": {},
     "output_type": "execute_result"
    },
    {
     "data": {
      "image/png": "[encoded data removed]",
      "text/plain": [
       "<Figure size 432x288 with 1 Axes>"
      ]
     },
     "metadata": {
      "needs_background": "light"
     },
     "output_type": "display_data"
    },
    {
     "data": {
      "image/png": "[encoded data removed]",
      "text/plain": [
       "<Figure size 432x288 with 1 Axes>"
      ]
     },
     "metadata": {
      "needs_background": "light"
     },
     "output_type": "display_data"
    },
    {
     "data": {
      "image/png": "[encoded data removed]",
      "text/plain": [
       "<Figure size 432x288 with 1 Axes>"
      ]
     },
     "metadata": {
      "needs_background": "light"
     },
     "output_type": "display_data"
    },
    {
     "data": {
      "image/png": "[encoded data removed]",
      "text/plain": [
       "<Figure size 432x288 with 1 Axes>"
      ]
     },
     "metadata": {
      "needs_background": "light"
     },
     "output_type": "display_data"
    },
    {
     "data": {
      "image/png": "[encoded data removed]",
      "text/plain": [
       "<Figure size 432x288 with 1 Axes>"
      ]
     },
     "metadata": {
      "needs_background": "light"
     },
     "output_type": "display_data"
    },
    {
     "data": {
      "image/png": "[encoded data removed]",
      "text/plain": [
       "<Figure size 432x288 with 1 Axes>"
      ]
     },
     "metadata": {
      "needs_background": "light"
     },
     "output_type": "display_data"
    }
   ],
   "source": [
    "#Temp 2021\n",
    "plt.figure()\n",
    "plt.plot(df.index,df['temp'])\n",
    "plt.title('Temp 2021')\n",
    "plt.ylabel('temp ($^\\circ$C)')\n",
    "plt.xlabel('Year-Month')\n",
    "\n",
    "#Nitrate 2021\n",
    "plt.figure()\n",
    "plt.plot(df.index,df['nitrate'])\n",
    "plt.title('Nitrate 2021')\n",
    "plt.ylabel('Nitrate (uM)')\n",
    "plt.xlabel('Year-Month')\n",
    "\n",
    "#Salinity 2021\n",
    "plt.figure()\n",
    "plt.plot(df.index,df['sal'])\n",
    "plt.title('Salinity 2021')\n",
    "plt.ylabel('sal [ppt]')\n",
    "plt.xlabel('Year-Month')\n",
    "\n",
    "#DO 2021\n",
    "plt.figure()\n",
    "plt.plot(df.index,df['do2'])\n",
    "plt.title('DO 2021')\n",
    "plt.ylabel('DO (mg/L)')\n",
    "plt.xlabel('Year-Month')\n",
    "\n",
    "#pH 2021\n",
    "plt.figure()\n",
    "plt.plot(df.index,df['ph']) \n",
    "plt.title('pH 2021')\n",
    "plt.ylabel('pH (-log[H +] and [H+]) ') \n",
    "plt.xlabel('Year-Month')\n",
    "\n",
    "#Fluorescence\n",
    "plt.figure()\n",
    "plt.plot(df.index,df['fluor']) \n",
    "plt.title('Fluor 2021')\n",
    "plt.ylabel('Fluor (RFU)') \n",
    "plt.xlabel('Year-Month')"
   ]
  },
  {
   "cell_type": "code",
   "execution_count": 111,
   "metadata": {},
   "outputs": [],
   "source": [
    "df=ds2021.to_dataframe()"
   ]
  },
  {
   "cell_type": "code",
   "execution_count": 112,
   "metadata": {},
   "outputs": [],
   "source": [
    "ii_df=np.array((df['temp_flg'] == 1) & (df['sal_flg'] == 1) & (df['fluor_flg'] == 1) & (df['ph_flg'] == 1) & (df['do2_flg'] == 1) & (df['nitrate_flg'] ==1))"
   ]
  },
  {
   "cell_type": "code",
   "execution_count": 113,
   "metadata": {},
   "outputs": [
    {
     "data": {
      "text/plain": [
       "array([ True,  True,  True, ..., False, False, False])"
      ]
     },
     "execution_count": 113,
     "metadata": {},
     "output_type": "execute_result"
    }
   ],
   "source": [
    "ii_df"
   ]
  },
  {
   "cell_type": "code",
   "execution_count": 123,
   "metadata": {},
   "outputs": [],
   "source": [
    "temp_df= np.array(df['temp'][ii_df])\n",
    "nitrate_df = np.array(df['nitrate'][ii_df])\n",
    "sal_df= np.array(df['sal'][ii_df])\n",
    "fluor_df= np.array(df['fluor'][ii_df])\n",
    "pH_df= np.array(df['ph'][ii_df])\n",
    "do2_df= np.array(df['do2'][ii_df])"
   ]
  },
  {
   "cell_type": "code",
   "execution_count": 124,
   "metadata": {},
   "outputs": [],
   "source": [
    "#Shape:(16939,)\n",
    "# np.shape(temp_df)\n",
    "#np.shape(sal_df)\n",
    "#np.shape(fluor_df)\n",
    "#np.shape(pH_df)\n",
    "#np.shape(do2_df)"
   ]
  },
  {
   "cell_type": "code",
   "execution_count": 125,
   "metadata": {},
   "outputs": [],
   "source": [
    "PCA_df = pd.DataFrame(temp_df, columns=['temp'])\n",
    "PCA_df['nitrate'] = nitrate_df.tolist()\n",
    "PCA_df['sal'] = sal_df.tolist()\n",
    "PCA_df['fluor'] = fluor_df.tolist()\n",
    "PCA_df['pH'] = pH_df.tolist()\n",
    "PCA_df['do2'] = do2_df.tolist()"
   ]
  },
  {
   "cell_type": "code",
   "execution_count": 126,
   "metadata": {},
   "outputs": [
    {
     "data": {
      "text/html": [
       "<div>\n",
       "<style scoped>\n",
       "    .dataframe tbody tr th:only-of-type {\n",
       "        vertical-align: middle;\n",
       "    }\n",
       "\n",
       "    .dataframe tbody tr th {\n",
       "        vertical-align: top;\n",
       "    }\n",
       "\n",
       "    .dataframe thead th {\n",
       "        text-align: right;\n",
       "    }\n",
       "</style>\n",
       "<table border=\"1\" class=\"dataframe\">\n",
       "  <thead>\n",
       "    <tr style=\"text-align: right;\">\n",
       "      <th></th>\n",
       "      <th>temp</th>\n",
       "      <th>nitrate</th>\n",
       "      <th>sal</th>\n",
       "      <th>fluor</th>\n",
       "      <th>pH</th>\n",
       "      <th>do2</th>\n",
       "    </tr>\n",
       "  </thead>\n",
       "  <tbody>\n",
       "    <tr>\n",
       "      <th>0</th>\n",
       "      <td>12.623983</td>\n",
       "      <td>11.02</td>\n",
       "      <td>33.120840</td>\n",
       "      <td>7.344685</td>\n",
       "      <td>7.7670</td>\n",
       "      <td>269.33</td>\n",
       "    </tr>\n",
       "    <tr>\n",
       "      <th>1</th>\n",
       "      <td>12.627052</td>\n",
       "      <td>10.75</td>\n",
       "      <td>33.118129</td>\n",
       "      <td>7.363977</td>\n",
       "      <td>7.7670</td>\n",
       "      <td>269.15</td>\n",
       "    </tr>\n",
       "    <tr>\n",
       "      <th>2</th>\n",
       "      <td>12.620147</td>\n",
       "      <td>9.97</td>\n",
       "      <td>33.117203</td>\n",
       "      <td>7.363977</td>\n",
       "      <td>7.7760</td>\n",
       "      <td>271.28</td>\n",
       "    </tr>\n",
       "    <tr>\n",
       "      <th>3</th>\n",
       "      <td>12.645462</td>\n",
       "      <td>9.10</td>\n",
       "      <td>33.111905</td>\n",
       "      <td>7.383269</td>\n",
       "      <td>7.7760</td>\n",
       "      <td>269.07</td>\n",
       "    </tr>\n",
       "    <tr>\n",
       "      <th>4</th>\n",
       "      <td>12.654665</td>\n",
       "      <td>9.68</td>\n",
       "      <td>33.106791</td>\n",
       "      <td>7.392915</td>\n",
       "      <td>7.7715</td>\n",
       "      <td>271.31</td>\n",
       "    </tr>\n",
       "    <tr>\n",
       "      <th>...</th>\n",
       "      <td>...</td>\n",
       "      <td>...</td>\n",
       "      <td>...</td>\n",
       "      <td>...</td>\n",
       "      <td>...</td>\n",
       "      <td>...</td>\n",
       "    </tr>\n",
       "    <tr>\n",
       "      <th>16934</th>\n",
       "      <td>11.154231</td>\n",
       "      <td>15.81</td>\n",
       "      <td>33.628876</td>\n",
       "      <td>11.608177</td>\n",
       "      <td>8.0460</td>\n",
       "      <td>248.18</td>\n",
       "    </tr>\n",
       "    <tr>\n",
       "      <th>16935</th>\n",
       "      <td>11.142480</td>\n",
       "      <td>15.82</td>\n",
       "      <td>33.627171</td>\n",
       "      <td>11.608177</td>\n",
       "      <td>8.0460</td>\n",
       "      <td>247.96</td>\n",
       "    </tr>\n",
       "    <tr>\n",
       "      <th>16936</th>\n",
       "      <td>11.133079</td>\n",
       "      <td>15.71</td>\n",
       "      <td>33.629557</td>\n",
       "      <td>11.598531</td>\n",
       "      <td>8.0415</td>\n",
       "      <td>246.29</td>\n",
       "    </tr>\n",
       "    <tr>\n",
       "      <th>16937</th>\n",
       "      <td>11.132295</td>\n",
       "      <td>16.63</td>\n",
       "      <td>33.628193</td>\n",
       "      <td>11.579239</td>\n",
       "      <td>8.0415</td>\n",
       "      <td>245.47</td>\n",
       "    </tr>\n",
       "    <tr>\n",
       "      <th>16938</th>\n",
       "      <td>11.126810</td>\n",
       "      <td>17.79</td>\n",
       "      <td>33.629065</td>\n",
       "      <td>11.579239</td>\n",
       "      <td>8.0325</td>\n",
       "      <td>244.86</td>\n",
       "    </tr>\n",
       "  </tbody>\n",
       "</table>\n",
       "<p>16939 rows × 6 columns</p>\n",
       "</div>"
      ],
      "text/plain": [
       "            temp  nitrate        sal      fluor      pH     do2\n",
       "0      12.623983    11.02  33.120840   7.344685  7.7670  269.33\n",
       "1      12.627052    10.75  33.118129   7.363977  7.7670  269.15\n",
       "2      12.620147     9.97  33.117203   7.363977  7.7760  271.28\n",
       "3      12.645462     9.10  33.111905   7.383269  7.7760  269.07\n",
       "4      12.654665     9.68  33.106791   7.392915  7.7715  271.31\n",
       "...          ...      ...        ...        ...     ...     ...\n",
       "16934  11.154231    15.81  33.628876  11.608177  8.0460  248.18\n",
       "16935  11.142480    15.82  33.627171  11.608177  8.0460  247.96\n",
       "16936  11.133079    15.71  33.629557  11.598531  8.0415  246.29\n",
       "16937  11.132295    16.63  33.628193  11.579239  8.0415  245.47\n",
       "16938  11.126810    17.79  33.629065  11.579239  8.0325  244.86\n",
       "\n",
       "[16939 rows x 6 columns]"
      ]
     },
     "execution_count": 126,
     "metadata": {},
     "output_type": "execute_result"
    }
   ],
   "source": [
    "PCA_df"
   ]
  },
  {
   "cell_type": "code",
   "execution_count": 129,
   "metadata": {},
   "outputs": [],
   "source": [
    "R = np.corrcoef(PCA_df, rowvar=False) "
   ]
  },
  {
   "cell_type": "code",
   "execution_count": 130,
   "metadata": {},
   "outputs": [
    {
     "data": {
      "text/plain": [
       "array([[ 1.        , -0.67438545, -0.78580541, -0.16448434,  0.16906869,\n",
       "         0.69734529],\n",
       "       [-0.67438545,  1.        ,  0.66466539,  0.11782201, -0.47086073,\n",
       "        -0.84558923],\n",
       "       [-0.78580541,  0.66466539,  1.        ,  0.1803806 ,  0.00858192,\n",
       "        -0.69652096],\n",
       "       [-0.16448434,  0.11782201,  0.1803806 ,  1.        , -0.11903237,\n",
       "        -0.2093266 ],\n",
       "       [ 0.16906869, -0.47086073,  0.00858192, -0.11903237,  1.        ,\n",
       "         0.46865818],\n",
       "       [ 0.69734529, -0.84558923, -0.69652096, -0.2093266 ,  0.46865818,\n",
       "         1.        ]])"
      ]
     },
     "execution_count": 130,
     "metadata": {},
     "output_type": "execute_result"
    }
   ],
   "source": [
    "R"
   ]
  },
  {
   "cell_type": "code",
   "execution_count": 131,
   "metadata": {},
   "outputs": [],
   "source": [
    "val, vec = linalg.eig(R)"
   ]
  },
  {
   "cell_type": "code",
   "execution_count": 132,
   "metadata": {},
   "outputs": [
    {
     "data": {
      "text/plain": [
       "array([[ 0.46625954, -0.28016289,  0.03330837, -0.76836673,  0.29515738,\n",
       "         0.15967478],\n",
       "       [-0.49414129, -0.12703237, -0.16884847, -0.42516915, -0.62762073,\n",
       "         0.36946011],\n",
       "       [-0.45200702,  0.44551069,  0.01338151, -0.10601015,  0.6077669 ,\n",
       "         0.4652011 ],\n",
       "       [-0.14784086, -0.10696694,  0.97855211, -0.03370556, -0.08350504,\n",
       "         0.03205875],\n",
       "       [ 0.23714035,  0.82615698,  0.096999  , -0.31964251, -0.30417885,\n",
       "        -0.23900667],\n",
       "       [ 0.50598775,  0.11364189,  0.05682115,  0.33808019, -0.22382109,\n",
       "         0.75062586]])"
      ]
     },
     "execution_count": 132,
     "metadata": {},
     "output_type": "execute_result"
    }
   ],
   "source": [
    "vec"
   ]
  },
  {
   "cell_type": "code",
   "execution_count": 133,
   "metadata": {},
   "outputs": [],
   "source": [
    "val = np.real(val)"
   ]
  },
  {
   "cell_type": "code",
   "execution_count": 134,
   "metadata": {},
   "outputs": [
    {
     "data": {
      "text/plain": [
       "5.999999999999999"
      ]
     },
     "execution_count": 134,
     "metadata": {},
     "output_type": "execute_result"
    }
   ],
   "source": [
    "np.real(val)\n",
    "np.sum(val)"
   ]
  },
  {
   "cell_type": "code",
   "execution_count": 135,
   "metadata": {},
   "outputs": [],
   "source": [
    "pctvar = val/np.sum(val)*100"
   ]
  },
  {
   "cell_type": "code",
   "execution_count": 136,
   "metadata": {},
   "outputs": [
    {
     "data": {
      "text/plain": [
       "array([56.19007405, 18.32621498, 15.87639699,  4.57842086,  2.65715398,\n",
       "        2.37173914])"
      ]
     },
     "execution_count": 136,
     "metadata": {},
     "output_type": "execute_result"
    }
   ],
   "source": [
    "pctvar"
   ]
  },
  {
   "cell_type": "code",
   "execution_count": 137,
   "metadata": {},
   "outputs": [],
   "source": [
    "A = np.dot(vec, np.diag(val**.5))"
   ]
  },
  {
   "cell_type": "code",
   "execution_count": 138,
   "metadata": {},
   "outputs": [
    {
     "data": {
      "text/plain": [
       "array([[ 0.85611708, -0.29378027,  0.0325091 , -0.40271892,  0.11785218,\n",
       "         0.06023451],\n",
       "       [-0.90731183, -0.13320681, -0.16479678, -0.22284107, -0.25060011,\n",
       "         0.13937236],\n",
       "       [-0.82994748,  0.46716483,  0.01306041, -0.05556239,  0.24267276,\n",
       "         0.17548897],\n",
       "       [-0.2714563 , -0.11216609,  0.95507078, -0.01766587, -0.03334239,\n",
       "         0.0120936 ],\n",
       "       [ 0.43542252,  0.86631252,  0.09467141, -0.16753209, -0.12145433,\n",
       "        -0.09016108],\n",
       "       [ 0.92906357,  0.11916547,  0.05545767,  0.17719571, -0.08936861,\n",
       "         0.28316046]])"
      ]
     },
     "execution_count": 138,
     "metadata": {},
     "output_type": "execute_result"
    }
   ],
   "source": [
    "A"
   ]
  },
  {
   "cell_type": "code",
   "execution_count": 139,
   "metadata": {},
   "outputs": [
    {
     "name": "stdout",
     "output_type": "stream",
     "text": [
      "PC1 loading\n",
      "[ 0.85611708 -0.90731183 -0.82994748 -0.2714563   0.43542252  0.92906357]\n",
      "temp nitrate sal fluor pH do2\n"
     ]
    }
   ],
   "source": [
    "print('PC1 loading')\n",
    "print(A[:,0])\n",
    "print('temp', 'nitrate', 'sal', 'fluor', 'pH', 'do2')"
   ]
  },
  {
   "cell_type": "code",
   "execution_count": 140,
   "metadata": {},
   "outputs": [
    {
     "data": {
      "image/png": "[encoded data removed]",
      "text/plain": [
       "<Figure size 432x288 with 1 Axes>"
      ]
     },
     "metadata": {
      "needs_background": "light"
     },
     "output_type": "display_data"
    }
   ],
   "source": [
    "plt.figure\n",
    "plt.xlim([-1,1])\n",
    "plt.ylim([-1,1])\n",
    "plt.title('MLML Shore Data Station 2021 Data')\n",
    "plt.xlabel('PC1 loading')\n",
    "plt.ylabel('PC2 loading')\n",
    "\n",
    "variables = ['temp', 'nitrate', 'sal', 'fluor', 'pH', 'do2']\n",
    "for i, txt in enumerate (variables):\n",
    "    plt.plot ([0,A[i,0]], [0, A[i,1]], '-')\n",
    "    plt.text(A[i,0], A[i,1], txt)"
   ]
  },
  {
   "cell_type": "code",
   "execution_count": 142,
   "metadata": {},
   "outputs": [
    {
     "data": {
      "text/plain": [
       "(16939, 6)"
      ]
     },
     "execution_count": 142,
     "metadata": {},
     "output_type": "execute_result"
    }
   ],
   "source": [
    "tau = np.dot(PCA_df, vec)\n",
    "tau\n",
    "np.shape(tau)"
   ]
  },
  {
   "cell_type": "code",
   "execution_count": 144,
   "metadata": {},
   "outputs": [
    {
     "data": {
      "text/plain": [
       "[<matplotlib.lines.Line2D at 0x7fa5a9c71210>]"
      ]
     },
     "execution_count": 144,
     "metadata": {},
     "output_type": "execute_result"
    },
    {
     "data": {
      "image/png": "[encoded data removed]",
      "text/plain": [
       "<Figure size 432x288 with 1 Axes>"
      ]
     },
     "metadata": {
      "needs_background": "light"
     },
     "output_type": "display_data"
    },
    {
     "data": {
      "image/png": "[encoded data removed]",
      "text/plain": [
       "<Figure size 432x288 with 1 Axes>"
      ]
     },
     "metadata": {
      "needs_background": "light"
     },
     "output_type": "display_data"
    }
   ],
   "source": [
    "plt.figure()\n",
    "plt.plot(tau[:,1]) #PC1\n",
    "\n",
    "plt.figure()\n",
    "plt.plot(tau[:,2]) #PC2"
   ]
  },
  {
   "cell_type": "code",
   "execution_count": 148,
   "metadata": {},
   "outputs": [
    {
     "name": "stdout",
     "output_type": "stream",
     "text": [
      "<bound method NDFrame.head of                           temp  temp_flg      cond  cond_flg        sal  \\\n",
      "time                                                                      \n",
      "2021-01-01 00:00:34  12.623983       1.0  0.896977       1.0  33.120840   \n",
      "2021-01-01 00:05:35  12.627052       1.0  0.896977       1.0  33.118129   \n",
      "2021-01-01 00:10:34  12.620147       1.0  0.896806       1.0  33.117203   \n",
      "2021-01-01 00:15:35  12.645462       1.0  0.897221       1.0  33.111905   \n",
      "2021-01-01 00:20:34  12.654665       1.0  0.897294       1.0  33.106791   \n",
      "...                        ...       ...       ...       ...        ...   \n",
      "2021-04-03 12:00:43  11.042915       1.0  0.868913       1.0  33.364048   \n",
      "2021-04-03 12:05:44  11.032715       1.0  0.868718       1.0  33.365014   \n",
      "2021-04-03 12:10:43  11.028007       1.0  0.868669       1.0  33.367225   \n",
      "2021-04-03 12:15:44  11.027222       1.0  0.868620       1.0  33.365855   \n",
      "2021-04-03 12:20:43  11.027222       1.0  0.868620       1.0  33.365855   \n",
      "\n",
      "                     sal_flg      fluor  fluor_flg  otemp  otemp_flg  ...  \\\n",
      "time                                                                  ...   \n",
      "2021-01-01 00:00:34      1.0   7.344685        1.0  12.69        1.0  ...   \n",
      "2021-01-01 00:05:35      1.0   7.363977        1.0  12.68        1.0  ...   \n",
      "2021-01-01 00:10:34      1.0   7.363977        1.0  12.68        1.0  ...   \n",
      "2021-01-01 00:15:35      1.0   7.383269        1.0  12.70        1.0  ...   \n",
      "2021-01-01 00:20:34      1.0   7.392915        1.0  12.70        1.0  ...   \n",
      "...                      ...        ...        ...    ...        ...  ...   \n",
      "2021-04-03 12:00:43      1.0   9.968372        1.0    NaN        4.0  ...   \n",
      "2021-04-03 12:05:44      1.0  10.479606        3.0    NaN        4.0  ...   \n",
      "2021-04-03 12:10:43      1.0  11.347737        3.0    NaN        4.0  ...   \n",
      "2021-04-03 12:15:44      1.0  12.804270        3.0    NaN        4.0  ...   \n",
      "2021-04-03 12:20:43      1.0  11.955430        3.0    NaN        4.0  ...   \n",
      "\n",
      "                     osat_flg      ph  ph_flg  co2  co2_flg  nitrate  \\\n",
      "time                                                                   \n",
      "2021-01-01 00:00:34       1.0  7.7670     1.0  NaN      4.0    11.02   \n",
      "2021-01-01 00:05:35       1.0  7.7670     1.0  NaN      4.0    10.75   \n",
      "2021-01-01 00:10:34       1.0  7.7760     1.0  NaN      4.0     9.97   \n",
      "2021-01-01 00:15:35       1.0  7.7760     1.0  NaN      4.0     9.10   \n",
      "2021-01-01 00:20:34       1.0  7.7715     1.0  NaN      4.0     9.68   \n",
      "...                       ...     ...     ...  ...      ...      ...   \n",
      "2021-04-03 12:00:43       4.0  7.8120     1.0  NaN      4.0    -1.00   \n",
      "2021-04-03 12:05:44       4.0  7.8075     1.0  NaN      4.0    -1.00   \n",
      "2021-04-03 12:10:43       4.0  7.7985     1.0  NaN      4.0    -1.00   \n",
      "2021-04-03 12:15:44       4.0  7.7985     1.0  NaN      4.0    -1.00   \n",
      "2021-04-03 12:20:43       4.0  7.7985     1.0  NaN      4.0    -1.00   \n",
      "\n",
      "                     nitrogen  nitrate_flg       lon      lat  \n",
      "time                                                           \n",
      "2021-01-01 00:00:34    0.1544          1.0 -121.7915  36.8025  \n",
      "2021-01-01 00:05:35    0.1506          1.0 -121.7915  36.8025  \n",
      "2021-01-01 00:10:34    0.1396          1.0 -121.7915  36.8025  \n",
      "2021-01-01 00:15:35    0.1275          1.0 -121.7915  36.8025  \n",
      "2021-01-01 00:20:34    0.1355          1.0 -121.7915  36.8025  \n",
      "...                       ...          ...       ...      ...  \n",
      "2021-04-03 12:00:43   -1.0000          4.0 -121.7915  36.8025  \n",
      "2021-04-03 12:05:44   -1.0000          4.0 -121.7915  36.8025  \n",
      "2021-04-03 12:10:43   -1.0000          4.0 -121.7915  36.8025  \n",
      "2021-04-03 12:15:44   -1.0000          4.0 -121.7915  36.8025  \n",
      "2021-04-03 12:20:43   -1.0000          4.0 -121.7915  36.8025  \n",
      "\n",
      "[23847 rows x 27 columns]>\n"
     ]
    }
   ],
   "source": [
    "print(df.head)"
   ]
  },
  {
   "cell_type": "markdown",
   "metadata": {},
   "source": [
    "Time doesnt work here for some reason "
   ]
  },
  {
   "cell_type": "code",
   "execution_count": 153,
   "metadata": {},
   "outputs": [],
   "source": [
    "\n",
    "# plt.figure()\n",
    "# plt.plot(df['temp'], df['time'])\n",
    "# plt.ylabel('Temp Degrees C')\n",
    "# plt.title('Temp 2021')\n",
    "# plt.xlabel('Year-Month')"
   ]
  },
  {
   "cell_type": "code",
   "execution_count": 161,
   "metadata": {},
   "outputs": [
    {
     "data": {
      "text/plain": [
       "Text(0.5, 1.0, '[periodogram, temp for 2021]')"
      ]
     },
     "execution_count": 161,
     "metadata": {},
     "output_type": "execute_result"
    },
    {
     "data": {
      "image/png": "[encoded data removed]",
      "text/plain": [
       "<Figure size 432x288 with 1 Axes>"
      ]
     },
     "metadata": {
      "needs_background": "light"
     },
     "output_type": "display_data"
    }
   ],
   "source": [
    "from scipy.signal import periodogram\n",
    "from scipy.signal import welch\n",
    "\n",
    "f,S = periodogram(df['temp'],fs=12)\n",
    "plt.figure()\n",
    "plt.loglog(f,S,'k-')\n",
    "plt.xlabel('frequency [int_ctd_pressure]')\n",
    "plt.ylabel('PSD [m$^2$ s$^{-2}$ cpd$^{-1}$]')\n",
    "plt.title('[periodogram, temp for 2021]')"
   ]
  },
  {
   "cell_type": "code",
   "execution_count": 159,
   "metadata": {},
   "outputs": [],
   "source": [
    "N = len(df['temp'])\n",
    "fs = 12 \n",
    "fN = 0.5* fs "
   ]
  },
  {
   "cell_type": "code",
   "execution_count": 162,
   "metadata": {},
   "outputs": [
    {
     "data": {
      "text/plain": [
       "time\n",
       "2021-01-01 00:00:34    12.623983\n",
       "2021-01-01 00:05:35    12.627052\n",
       "2021-01-01 00:10:34    12.620147\n",
       "2021-01-01 00:15:35    12.645462\n",
       "2021-01-01 00:20:34    12.654665\n",
       "                         ...    \n",
       "2021-04-03 12:00:43    11.042915\n",
       "2021-04-03 12:05:44    11.032715\n",
       "2021-04-03 12:10:43    11.028007\n",
       "2021-04-03 12:15:44    11.027222\n",
       "2021-04-03 12:20:43    11.027222\n",
       "Name: temp, Length: 23847, dtype: float64"
      ]
     },
     "execution_count": 162,
     "metadata": {},
     "output_type": "execute_result"
    }
   ],
   "source": [
    "df['temp']"
   ]
  },
  {
   "cell_type": "markdown",
   "metadata": {},
   "source": [
    "Temp for some reason 'is not defined' evenn though it is defined in the cell above"
   ]
  },
  {
   "cell_type": "code",
   "execution_count": 164,
   "metadata": {},
   "outputs": [
    {
     "ename": "NameError",
     "evalue": "name 'temp' is not defined",
     "output_type": "error",
     "traceback": [
      "\u001b[0;31m---------------------------------------------------------------------------\u001b[0m",
      "\u001b[0;31mNameError\u001b[0m                                 Traceback (most recent call last)",
      "\u001b[0;32m<ipython-input-164-323d75160315>\u001b[0m in \u001b[0;36m<module>\u001b[0;34m\u001b[0m\n\u001b[0;32m----> 1\u001b[0;31m \u001b[0mf\u001b[0m\u001b[0;34m,\u001b[0m \u001b[0mS\u001b[0m \u001b[0;34m=\u001b[0m \u001b[0mwelch\u001b[0m\u001b[0;34m(\u001b[0m\u001b[0mtemp\u001b[0m\u001b[0;34m,\u001b[0m \u001b[0mfs\u001b[0m\u001b[0;34m=\u001b[0m\u001b[0;36m48\u001b[0m\u001b[0;34m,\u001b[0m \u001b[0mnperseg\u001b[0m\u001b[0;34m=\u001b[0m\u001b[0mN\u001b[0m\u001b[0;34m)\u001b[0m\u001b[0;34m\u001b[0m\u001b[0;34m\u001b[0m\u001b[0m\n\u001b[0m\u001b[1;32m      2\u001b[0m \u001b[0;34m\u001b[0m\u001b[0m\n\u001b[1;32m      3\u001b[0m \u001b[0mplt\u001b[0m\u001b[0;34m.\u001b[0m\u001b[0mfigure\u001b[0m\u001b[0;34m(\u001b[0m\u001b[0;34m)\u001b[0m\u001b[0;34m\u001b[0m\u001b[0;34m\u001b[0m\u001b[0m\n\u001b[1;32m      4\u001b[0m \u001b[0mplt\u001b[0m\u001b[0;34m.\u001b[0m\u001b[0mloglog\u001b[0m\u001b[0;34m(\u001b[0m\u001b[0mf\u001b[0m\u001b[0;34m,\u001b[0m\u001b[0mS\u001b[0m\u001b[0;34m)\u001b[0m\u001b[0;34m\u001b[0m\u001b[0;34m\u001b[0m\u001b[0m\n\u001b[1;32m      5\u001b[0m \u001b[0mplt\u001b[0m\u001b[0;34m.\u001b[0m\u001b[0mxlabel\u001b[0m\u001b[0;34m(\u001b[0m\u001b[0;34m'frequency[cpd]'\u001b[0m\u001b[0;34m)\u001b[0m\u001b[0;34m\u001b[0m\u001b[0;34m\u001b[0m\u001b[0m\n",
      "\u001b[0;31mNameError\u001b[0m: name 'temp' is not defined"
     ]
    }
   ],
   "source": [
    "f, S = welch(temp, fs=48, nperseg=N)\n",
    "\n",
    "plt.figure()\n",
    "plt.loglog(f,S)\n",
    "plt.xlabel('frequency[cpd]')\n",
    "plt.ylabel('PSD[m$^2$ s$^{-2}$ cpd$^{-1}$]')#variance per unit frequency \n",
    "winlen = N/2\n",
    "f2,S2 = welch(df['temp'], fs=48., nperseg=winlen, window='hanning') "
   ]
  },
  {
   "cell_type": "code",
   "execution_count": null,
   "metadata": {},
   "outputs": [],
   "source": []
  }
 ],
 "metadata": {
  "kernelspec": {
   "display_name": "Python 3",
   "language": "python",
   "name": "python3"
  },
  "language_info": {
   "codemirror_mode": {
    "name": "ipython",
    "version": 3
   },
   "file_extension": ".py",
   "mimetype": "text/x-python",
   "name": "python",
   "nbconvert_exporter": "python",
   "pygments_lexer": "ipython3",
   "version": "3.7.4"
  }
 },
 "nbformat": 4,
 "nbformat_minor": 4
}
